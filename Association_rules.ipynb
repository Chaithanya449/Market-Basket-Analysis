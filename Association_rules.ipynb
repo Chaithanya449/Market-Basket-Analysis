{
  "nbformat": 4,
  "nbformat_minor": 0,
  "metadata": {
    "colab": {
      "provenance": []
    },
    "kernelspec": {
      "name": "python3",
      "display_name": "Python 3"
    },
    "language_info": {
      "name": "python"
    }
  },
  "cells": [
    {
      "cell_type": "markdown",
      "source": [
        "# **IMPORTING THE NECESSARY LIBRARIES**\n",
        "\n"
      ],
      "metadata": {
        "id": "FRz-rZ1mEc6C"
      }
    },
    {
      "cell_type": "code",
      "source": [
        "import pandas as pd\n",
        "import numpy as np\n",
        "import matplotlib.pyplot as plt\n",
        "import seaborn as sns\n",
        "from mlxtend.frequent_patterns import apriori,association_rules\n",
        "from mlxtend.preprocessing import TransactionEncoder\n",
        "import warnings\n",
        "warnings.filterwarnings('ignore')"
      ],
      "metadata": {
        "id": "4pnXA1XGGK5p"
      },
      "execution_count": 3,
      "outputs": []
    },
    {
      "cell_type": "markdown",
      "source": [
        "# **Loading and Data preprocessing**"
      ],
      "metadata": {
        "id": "Vyc0cmdz1Ibt"
      }
    },
    {
      "cell_type": "code",
      "source": [
        "# --- 1. Load the Dataset ---\n",
        "data = pd.read_excel(\"Online retail.xlsx\")\n",
        "print(\"Dataset loaded successfully!\")\n",
        "print(data.head())\n",
        "\n",
        "# --- 2. Check Missing Values ---\n",
        "print('Missing values:', data.isnull().sum())\n",
        "\n",
        "# --- 3. Remove Duplicates ---\n",
        "print(f\"Original transaction count: {len(data)}\")\n",
        "data.drop_duplicates(inplace=True)\n",
        "print(f\"Transaction count after removing duplicates: {len(data)}\")\n",
        "\n",
        "# --- 4. Prepare Data for Analysis ---\n",
        "'''\n",
        "The dataset has a list of items for each transaction, meaning each row contains multiple items.\n",
        "We must convert each row into a list of transactions for the Apriori algorithm.\n",
        "Missing values are also handled in this step.\n",
        "'''\n",
        "transactions = [\n",
        "    [item.strip() for item in str(row).split(',')]\n",
        "    for row in data.iloc[:, 0] if pd.notnull(row)  # Skip rows with null values\n",
        "]\n",
        "\n",
        "# --- 5. One-Hot Encode the Transactions ---\n",
        "# This converts your 'transactions' list into a True/False DataFrame\n",
        "print(\"Encoding transactions...\")\n",
        "te = TransactionEncoder()\n",
        "te.fit(transactions)  # Learns the unique items\n",
        "te_arr = te.transform(transactions)  # Encodes transactions\n",
        "te_encoded = pd.DataFrame(te_arr, columns=te.columns_)\n",
        "\n",
        "print(\"Encoding complete. Here is the one-hot encoded data:\")\n",
        "print(te_encoded.head())\n",
        "\n",
        "# --- 6. Run the Apriori Algorithm ---\n",
        "print('---Running the Apriori algorithm---')\n",
        "print('**Finding frequent itemsets**')\n",
        "\n",
        "# Minimum support threshold = 0.003 (0.3%)\n",
        "frequent_itemsets = apriori(te_encoded, min_support=0.003, use_colnames=True) #without use_colnames apriori returns column indices without the actual itemset name\n",
        "\n",
        "'''\n",
        "Total transactions in the dataset: 7,500\n",
        "Minimum number of transactions an itemset must appear in:\n",
        "7,500 × 0.003 = 22.5 ≈ 23\n",
        "That means any itemset that appears in at least 23 transactions or more is considered frequent.\n",
        "'''\n",
        "\n",
        "print('===Successfully applied Apriori===')\n",
        "print('*Top 10 Frequent Itemsets*')\n",
        "print(frequent_itemsets.nlargest(10, 'support'))\n"
      ],
      "metadata": {
        "colab": {
          "base_uri": "https://localhost:8080/"
        },
        "id": "MgXihWHYZ0no",
        "outputId": "a8065772-a140-4148-e8f4-fce892eacc7f"
      },
      "execution_count": 4,
      "outputs": [
        {
          "output_type": "stream",
          "name": "stdout",
          "text": [
            "Dataset loaded successfully!\n",
            "  shrimp,almonds,avocado,vegetables mix,green grapes,whole weat flour,yams,cottage cheese,energy drink,tomato juice,low fat yogurt,green tea,honey,salad,mineral water,salmon,antioxydant juice,frozen smoothie,spinach,olive oil\n",
            "0                             burgers,meatballs,eggs                                                                                                                                                                             \n",
            "1                                            chutney                                                                                                                                                                             \n",
            "2                                     turkey,avocado                                                                                                                                                                             \n",
            "3  mineral water,milk,energy bar,whole wheat rice...                                                                                                                                                                             \n",
            "4                                     low fat yogurt                                                                                                                                                                             \n",
            "Missing values: shrimp,almonds,avocado,vegetables mix,green grapes,whole weat flour,yams,cottage cheese,energy drink,tomato juice,low fat yogurt,green tea,honey,salad,mineral water,salmon,antioxydant juice,frozen smoothie,spinach,olive oil    0\n",
            "dtype: int64\n",
            "Original transaction count: 7500\n",
            "Transaction count after removing duplicates: 5175\n",
            "Encoding transactions...\n",
            "Encoding complete. Here is the one-hot encoded data:\n",
            "   almonds  antioxydant juice  asparagus  avocado  babies food  bacon  \\\n",
            "0    False              False      False    False        False  False   \n",
            "1    False              False      False    False        False  False   \n",
            "2    False              False      False     True        False  False   \n",
            "3    False              False      False    False        False  False   \n",
            "4    False              False      False    False        False  False   \n",
            "\n",
            "   barbecue sauce  black tea  blueberries  body spray  ...  turkey  \\\n",
            "0           False      False        False       False  ...   False   \n",
            "1           False      False        False       False  ...   False   \n",
            "2           False      False        False       False  ...    True   \n",
            "3           False      False        False       False  ...   False   \n",
            "4           False      False        False       False  ...   False   \n",
            "\n",
            "   vegetables mix  water spray  white wine  whole weat flour  \\\n",
            "0           False        False       False             False   \n",
            "1           False        False       False             False   \n",
            "2           False        False       False             False   \n",
            "3           False        False       False             False   \n",
            "4           False        False       False             False   \n",
            "\n",
            "   whole wheat pasta  whole wheat rice   yams  yogurt cake  zucchini  \n",
            "0              False             False  False        False     False  \n",
            "1              False             False  False        False     False  \n",
            "2              False             False  False        False     False  \n",
            "3              False              True  False        False     False  \n",
            "4              False             False  False        False     False  \n",
            "\n",
            "[5 rows x 119 columns]\n",
            "---Running the Apriori algorithm---\n",
            "**Finding frequent itemsets**\n",
            "===Successfully applied Apriori===\n",
            "*Top 10 Frequent Itemsets*\n",
            "     support             itemsets\n",
            "69  0.299710      (mineral water)\n",
            "96  0.229565          (spaghetti)\n",
            "34  0.208116               (eggs)\n",
            "23  0.205217          (chocolate)\n",
            "40  0.192657       (french fries)\n",
            "68  0.170048               (milk)\n",
            "51  0.169082          (green tea)\n",
            "52  0.135845        (ground beef)\n",
            "46  0.129855  (frozen vegetables)\n",
            "78  0.125217           (pancakes)\n"
          ]
        }
      ]
    },
    {
      "cell_type": "markdown",
      "source": [
        "# **Association Rule Mining:**"
      ],
      "metadata": {
        "id": "kEJ_fz23Z5-R"
      }
    },
    {
      "cell_type": "code",
      "source": [
        "#Generating Association rules\n",
        "print('---Generating Association rules---')\n",
        "# generate association rules with 20 % confidence and lift > 3\n",
        "# Set thresholds\n",
        "CONFIDENCE_THRESHOLD = 0.2\n",
        "LIFT_THRESHOLD = 3\n",
        "rules = association_rules(frequent_itemsets,metric = 'confidence',min_threshold = CONFIDENCE_THRESHOLD)\n",
        "\n",
        "print(f\"Found {len(rules)} rules with > {CONFIDENCE_THRESHOLD*100}% confidence.\")\n",
        "meaningful_rules = rules[rules['lift'] > LIFT_THRESHOLD]\n",
        "print(f\"Found {len(meaningful_rules)} meaningful rules with lift > {LIFT_THRESHOLD}.\")\n",
        "\n",
        "print('rules generated succesfully!')\n",
        "\n",
        "print('---Top 10 strongest rules---')\n",
        "print(rules.sort_values(by = 'lift',ascending = False).head(10))\n",
        "\n",
        "\n"
      ],
      "metadata": {
        "id": "2CpnG9c0rR9F",
        "colab": {
          "base_uri": "https://localhost:8080/"
        },
        "outputId": "d9101677-fb90-4b8f-bdda-942a0e377520"
      },
      "execution_count": 5,
      "outputs": [
        {
          "output_type": "stream",
          "name": "stdout",
          "text": [
            "---Generating Association rules---\n",
            "Found 2666 rules with > 20.0% confidence.\n",
            "Found 85 meaningful rules with lift > 3.\n",
            "rules generated succesfully!\n",
            "---Top 10 strongest rules---\n",
            "                                    antecedents  \\\n",
            "2555                      (olive oil, tomatoes)   \n",
            "2515                  (frozen vegetables, soup)   \n",
            "2501                      (shrimp, ground beef)   \n",
            "1691                (parmesan cheese, tomatoes)   \n",
            "2030         (whole wheat pasta, mineral water)   \n",
            "2506             (frozen vegetables, olive oil)   \n",
            "2301                 (herb & pepper, chocolate)   \n",
            "1690       (frozen vegetables, parmesan cheese)   \n",
            "2298  (herb & pepper, mineral water, chocolate)   \n",
            "395                                     (pasta)   \n",
            "\n",
            "                         consequents  antecedent support  consequent support  \\\n",
            "2555  (frozen vegetables, spaghetti)            0.010435            0.039034   \n",
            "2515           (mineral water, milk)            0.011594            0.067826   \n",
            "2501  (frozen vegetables, spaghetti)            0.016618            0.039034   \n",
            "1691             (frozen vegetables)            0.004638            0.129855   \n",
            "2030                     (olive oil)            0.013720            0.087536   \n",
            "2506           (mineral water, milk)            0.016425            0.067826   \n",
            "2301    (mineral water, ground beef)            0.013140            0.058744   \n",
            "1690                      (tomatoes)            0.007923            0.091981   \n",
            "2298                   (ground beef)            0.005797            0.135845   \n",
            "395                         (shrimp)            0.017391            0.098744   \n",
            "\n",
            "       support  confidence      lift  representativity  leverage  conviction  \\\n",
            "2555  0.003092    0.296296  7.590759               1.0  0.002684    1.365584   \n",
            "2515  0.004444    0.383333  5.651709               1.0  0.003658    1.511633   \n",
            "2501  0.003478    0.209302  5.362077               1.0  0.002830    1.215340   \n",
            "1691  0.003092    0.666667  5.133929               1.0  0.002490    2.610435   \n",
            "2030  0.005411    0.394366  4.505177               1.0  0.004210    1.506626   \n",
            "2506  0.004831    0.294118  4.336350               1.0  0.003717    1.320580   \n",
            "2301  0.003285    0.250000  4.255757               1.0  0.002513    1.255008   \n",
            "1690  0.003092    0.390244  4.242673               1.0  0.002363    1.489152   \n",
            "2298  0.003285    0.566667  4.171408               1.0  0.002498    1.994203   \n",
            "395   0.007150    0.411111  4.163405               1.0  0.005432    1.530435   \n",
            "\n",
            "      zhangs_metric   jaccard  certainty  kulczynski  \n",
            "2555       0.877417  0.066667   0.267712    0.187752  \n",
            "2515       0.832717  0.059278   0.338464    0.224430  \n",
            "2501       0.827253  0.066667   0.177185    0.149206  \n",
            "1691       0.808969  0.023529   0.616922    0.345238  \n",
            "2030       0.788856  0.056452   0.336265    0.228088  \n",
            "2506       0.782240  0.060827   0.242757    0.182671  \n",
            "2301       0.775210  0.047887   0.203192    0.152961  \n",
            "1690       0.770403  0.031936   0.328477    0.211929  \n",
            "2298       0.764706  0.023743   0.498547    0.295424  \n",
            "395        0.773260  0.065603   0.346591    0.241759  \n"
          ]
        }
      ]
    },
    {
      "cell_type": "markdown",
      "source": [
        "# **Analysis and interpretation:**"
      ],
      "metadata": {
        "id": "tG1M69PKVH9C"
      }
    },
    {
      "cell_type": "markdown",
      "source": [
        "Analysis and Interpretation:\n",
        "\n",
        "After applying the Apriori algorithm with a confidence threshold of 0.2, clear relationships between products were identified, revealing how items are often bought together and offering insights into customer purchasing behavior.\n",
        "\n",
        "Frequent items like mineral water, eggs, and spaghetti appeared most often, showing they are popular staples in many transactions. Association rules showed patterns such as customers who bought spaghetti also buying mineral water, and those purchasing chocolate likely buying milk or eggs.\n",
        "\n",
        "Confidence reflects the reliability of each rule (e.g., 0.7 means 70% of the time both items are bought together). Lift, however, measures the strength of the relationship — a value >1 indicates a strong positive link, while values near or below 1 suggest weak or random associations. For example, a lift of 1.5 for “(spaghetti) → (mineral water)” means customers are 1.5 times more likely to buy mineral water with spaghetti than by chance.\n",
        "\n",
        "Insights:\n",
        "\n",
        "Mineral water frequently appears with many items, showing it’s a common complementary product.\n",
        "\n",
        "Spaghetti and eggs act as core ingredients, often paired with milk or chocolate.\n",
        "\n",
        "These insights help retailers design combo offers, improve store layout, and optimize product recommendations to boost cross-selling.\n",
        "\n",
        "Overall, the Apriori results highlight strong, actionable purchasing patterns that can guide marketing and sales strategies."
      ],
      "metadata": {
        "id": "329ACFkAUzKt"
      }
    }
  ]
}